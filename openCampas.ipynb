{
  "nbformat": 4,
  "nbformat_minor": 0,
  "metadata": {
    "colab": {
      "provenance": [],
      "authorship_tag": "ABX9TyP8HQ1phCnLVDjKUOF4J/Yb",
      "include_colab_link": true
    },
    "kernelspec": {
      "name": "python3",
      "display_name": "Python 3"
    },
    "language_info": {
      "name": "python"
    }
  },
  "cells": [
    {
      "cell_type": "markdown",
      "metadata": {
        "id": "view-in-github",
        "colab_type": "text"
      },
      "source": [
        "<a href=\"https://colab.research.google.com/github/taise0000/Multithread/blob/main/openCampas.ipynb\" target=\"_parent\"><img src=\"https://colab.research.google.com/assets/colab-badge.svg\" alt=\"Open In Colab\"/></a>"
      ]
    },
    {
      "cell_type": "code",
      "execution_count": 1,
      "metadata": {
        "colab": {
          "base_uri": "https://localhost:8080/"
        },
        "id": "L0FLxrdqcwZj",
        "outputId": "cff41e4f-b4e4-4331-f593-8623fb6240b5"
      },
      "outputs": [
        {
          "output_type": "stream",
          "name": "stdout",
          "text": [
            "Collecting mecab-python3\n",
            "  Downloading mecab_python3-1.0.6-cp310-cp310-manylinux_2_17_x86_64.manylinux2014_x86_64.whl (581 kB)\n",
            "\u001b[2K     \u001b[90m━━━━━━━━━━━━━━━━━━━━━━━━━━━━━━━━━━━━━━\u001b[0m \u001b[32m581.6/581.6 kB\u001b[0m \u001b[31m12.5 MB/s\u001b[0m eta \u001b[36m0:00:00\u001b[0m\n",
            "\u001b[?25hCollecting unidic-lite\n",
            "  Downloading unidic-lite-1.0.8.tar.gz (47.4 MB)\n",
            "\u001b[2K     \u001b[90m━━━━━━━━━━━━━━━━━━━━━━━━━━━━━━━━━━━━━━━━\u001b[0m \u001b[32m47.4/47.4 MB\u001b[0m \u001b[31m15.5 MB/s\u001b[0m eta \u001b[36m0:00:00\u001b[0m\n",
            "\u001b[?25h  Preparing metadata (setup.py) ... \u001b[?25l\u001b[?25hdone\n",
            "Building wheels for collected packages: unidic-lite\n",
            "  Building wheel for unidic-lite (setup.py) ... \u001b[?25l\u001b[?25hdone\n",
            "  Created wheel for unidic-lite: filename=unidic_lite-1.0.8-py3-none-any.whl size=47658817 sha256=4630d0d2871de5e6309aec6a6d40876c58632fd19cfcf129e3dc32c92190d078\n",
            "  Stored in directory: /root/.cache/pip/wheels/89/e8/68/f9ac36b8cc6c8b3c96888cd57434abed96595d444f42243853\n",
            "Successfully built unidic-lite\n",
            "Installing collected packages: unidic-lite, mecab-python3\n",
            "Successfully installed mecab-python3-1.0.6 unidic-lite-1.0.8\n",
            "JK\tJK\tJK\tJK\t名詞-普通名詞-一般\t\t\t0\n",
            "しか\tシカ\tシカ\tしか\t助詞-副助詞\t\t\t\n",
            "勝た\tカタ\tカツ\t勝つ\t動詞-一般\t五段-タ行\t未然形-一般\t1\n",
            "ん\tン\tズ\tず\t助動詞\t助動詞-ヌ\t終止形-撥音便\t\n",
            "EOS\n",
            "\n"
          ]
        }
      ],
      "source": [
        "! pip install mecab-python3 unidic-lite\n",
        "import MeCab\n",
        "print(MeCab.Tagger().parse(\"今日は、東京国際工科専門職大学のオープンキャンパスの日です。\"))\n"
      ]
    },
    {
      "cell_type": "code",
      "source": [
        "print(MeCab.Tagger().parse(\"今日は、東京国際工科専門職大学のオープンキャンパスの日です。\"))"
      ],
      "metadata": {
        "colab": {
          "base_uri": "https://localhost:8080/"
        },
        "id": "CLveByw0dOcz",
        "outputId": "10342383-0a1c-486f-ba4c-9cd339e80b20"
      },
      "execution_count": 2,
      "outputs": [
        {
          "output_type": "stream",
          "name": "stdout",
          "text": [
            "今日\tキョー\tキョウ\t今日\t名詞-普通名詞-副詞可能\t\t\t1\n",
            "は\tワ\tハ\tは\t助詞-係助詞\t\t\t\n",
            "、\t\t\t、\t補助記号-読点\t\t\t\n",
            "東京\tトーキョー\tトウキョウ\tトウキョウ\t名詞-固有名詞-地名-一般\t\t\t0\n",
            "国際\tコクサイ\tコクサイ\t国際\t名詞-普通名詞-一般\t\t\t0\n",
            "工科\tコーカ\tコウカ\t工科\t名詞-普通名詞-一般\t\t\t1\n",
            "専門\tセンモン\tセンモン\t専門\t名詞-普通名詞-一般\t\t\t0\n",
            "職\tショク\tショク\t職\t名詞-普通名詞-一般\t\t\t0\n",
            "大学\tダイガク\tダイガク\t大学\t名詞-普通名詞-一般\t\t\t0\n",
            "の\tノ\tノ\tの\t助詞-格助詞\t\t\t\n",
            "オープン\tオープン\tオープン\tオープン-open\t名詞-普通名詞-サ変形状詞可能\t\t\t1\n",
            "キャンパス\tキャンパス\tキャンパス\tキャンパス-campus\t名詞-普通名詞-一般\t\t\t1\n",
            "の\tノ\tノ\tの\t助詞-格助詞\t\t\t\n",
            "日\tヒ\tヒ\t日\t名詞-普通名詞-副詞可能\t\t\t0,1\n",
            "です\tデス\tデス\tです\t助動詞\t助動詞-デス\t終止形-一般\t\n",
            "。\t\t\t。\t補助記号-句点\t\t\t\n",
            "EOS\n",
            "\n"
          ]
        }
      ]
    }
  ]
}